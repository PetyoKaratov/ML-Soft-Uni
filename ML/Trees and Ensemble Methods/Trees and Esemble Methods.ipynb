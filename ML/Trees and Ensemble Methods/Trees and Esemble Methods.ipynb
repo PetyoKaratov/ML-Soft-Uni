{
 "cells": [
  {
   "cell_type": "code",
   "execution_count": 1,
   "metadata": {},
   "outputs": [],
   "source": [
    "%matplotlib inline"
   ]
  },
  {
   "cell_type": "code",
   "execution_count": 2,
   "metadata": {},
   "outputs": [],
   "source": [
    "import numpy as np\n",
    "import pandas as pd\n",
    "import matplotlib.pyplot as plt\n",
    "\n",
    "from sklearn.preprocessing import MinMaxScaler\n",
    "from sklearn.model_selection import train_test_split, GridSearchCV\n",
    "from sklearn.metrics import f1_score, make_scorer, classification_report\n",
    "\n",
    "from sklearn.tree import DecisionTreeClassifier\n",
    "from sklearn.ensemble import RandomForestClassifier, AdaBoostClassifier, "
   ]
  },
  {
   "cell_type": "markdown",
   "metadata": {},
   "source": [
    "# Trees and Ensemble Methods"
   ]
  },
  {
   "cell_type": "code",
   "execution_count": 3,
   "metadata": {},
   "outputs": [],
   "source": [
    "adult_income_data = pd.read_csv(\"adult.csv\")"
   ]
  },
  {
   "cell_type": "code",
   "execution_count": 4,
   "metadata": {},
   "outputs": [
    {
     "data": {
      "text/html": [
       "<div>\n",
       "<style scoped>\n",
       "    .dataframe tbody tr th:only-of-type {\n",
       "        vertical-align: middle;\n",
       "    }\n",
       "\n",
       "    .dataframe tbody tr th {\n",
       "        vertical-align: top;\n",
       "    }\n",
       "\n",
       "    .dataframe thead th {\n",
       "        text-align: right;\n",
       "    }\n",
       "</style>\n",
       "<table border=\"1\" class=\"dataframe\">\n",
       "  <thead>\n",
       "    <tr style=\"text-align: right;\">\n",
       "      <th></th>\n",
       "      <th>age</th>\n",
       "      <th>workclass</th>\n",
       "      <th>fnlwgt</th>\n",
       "      <th>education</th>\n",
       "      <th>educational-num</th>\n",
       "      <th>marital-status</th>\n",
       "      <th>occupation</th>\n",
       "      <th>relationship</th>\n",
       "      <th>race</th>\n",
       "      <th>gender</th>\n",
       "      <th>capital-gain</th>\n",
       "      <th>capital-loss</th>\n",
       "      <th>hours-per-week</th>\n",
       "      <th>native-country</th>\n",
       "      <th>income</th>\n",
       "    </tr>\n",
       "  </thead>\n",
       "  <tbody>\n",
       "    <tr>\n",
       "      <td>0</td>\n",
       "      <td>25</td>\n",
       "      <td>Private</td>\n",
       "      <td>226802</td>\n",
       "      <td>11th</td>\n",
       "      <td>7</td>\n",
       "      <td>Never-married</td>\n",
       "      <td>Machine-op-inspct</td>\n",
       "      <td>Own-child</td>\n",
       "      <td>Black</td>\n",
       "      <td>Male</td>\n",
       "      <td>0</td>\n",
       "      <td>0</td>\n",
       "      <td>40</td>\n",
       "      <td>United-States</td>\n",
       "      <td>&lt;=50K</td>\n",
       "    </tr>\n",
       "    <tr>\n",
       "      <td>1</td>\n",
       "      <td>38</td>\n",
       "      <td>Private</td>\n",
       "      <td>89814</td>\n",
       "      <td>HS-grad</td>\n",
       "      <td>9</td>\n",
       "      <td>Married-civ-spouse</td>\n",
       "      <td>Farming-fishing</td>\n",
       "      <td>Husband</td>\n",
       "      <td>White</td>\n",
       "      <td>Male</td>\n",
       "      <td>0</td>\n",
       "      <td>0</td>\n",
       "      <td>50</td>\n",
       "      <td>United-States</td>\n",
       "      <td>&lt;=50K</td>\n",
       "    </tr>\n",
       "    <tr>\n",
       "      <td>2</td>\n",
       "      <td>28</td>\n",
       "      <td>Local-gov</td>\n",
       "      <td>336951</td>\n",
       "      <td>Assoc-acdm</td>\n",
       "      <td>12</td>\n",
       "      <td>Married-civ-spouse</td>\n",
       "      <td>Protective-serv</td>\n",
       "      <td>Husband</td>\n",
       "      <td>White</td>\n",
       "      <td>Male</td>\n",
       "      <td>0</td>\n",
       "      <td>0</td>\n",
       "      <td>40</td>\n",
       "      <td>United-States</td>\n",
       "      <td>&gt;50K</td>\n",
       "    </tr>\n",
       "    <tr>\n",
       "      <td>3</td>\n",
       "      <td>44</td>\n",
       "      <td>Private</td>\n",
       "      <td>160323</td>\n",
       "      <td>Some-college</td>\n",
       "      <td>10</td>\n",
       "      <td>Married-civ-spouse</td>\n",
       "      <td>Machine-op-inspct</td>\n",
       "      <td>Husband</td>\n",
       "      <td>Black</td>\n",
       "      <td>Male</td>\n",
       "      <td>7688</td>\n",
       "      <td>0</td>\n",
       "      <td>40</td>\n",
       "      <td>United-States</td>\n",
       "      <td>&gt;50K</td>\n",
       "    </tr>\n",
       "    <tr>\n",
       "      <td>4</td>\n",
       "      <td>18</td>\n",
       "      <td>?</td>\n",
       "      <td>103497</td>\n",
       "      <td>Some-college</td>\n",
       "      <td>10</td>\n",
       "      <td>Never-married</td>\n",
       "      <td>?</td>\n",
       "      <td>Own-child</td>\n",
       "      <td>White</td>\n",
       "      <td>Female</td>\n",
       "      <td>0</td>\n",
       "      <td>0</td>\n",
       "      <td>30</td>\n",
       "      <td>United-States</td>\n",
       "      <td>&lt;=50K</td>\n",
       "    </tr>\n",
       "  </tbody>\n",
       "</table>\n",
       "</div>"
      ],
      "text/plain": [
       "   age  workclass  fnlwgt     education  educational-num      marital-status  \\\n",
       "0   25    Private  226802          11th                7       Never-married   \n",
       "1   38    Private   89814       HS-grad                9  Married-civ-spouse   \n",
       "2   28  Local-gov  336951    Assoc-acdm               12  Married-civ-spouse   \n",
       "3   44    Private  160323  Some-college               10  Married-civ-spouse   \n",
       "4   18          ?  103497  Some-college               10       Never-married   \n",
       "\n",
       "          occupation relationship   race  gender  capital-gain  capital-loss  \\\n",
       "0  Machine-op-inspct    Own-child  Black    Male             0             0   \n",
       "1    Farming-fishing      Husband  White    Male             0             0   \n",
       "2    Protective-serv      Husband  White    Male             0             0   \n",
       "3  Machine-op-inspct      Husband  Black    Male          7688             0   \n",
       "4                  ?    Own-child  White  Female             0             0   \n",
       "\n",
       "   hours-per-week native-country income  \n",
       "0              40  United-States  <=50K  \n",
       "1              50  United-States  <=50K  \n",
       "2              40  United-States   >50K  \n",
       "3              40  United-States   >50K  \n",
       "4              30  United-States  <=50K  "
      ]
     },
     "execution_count": 4,
     "metadata": {},
     "output_type": "execute_result"
    }
   ],
   "source": [
    "adult_income_data.head()"
   ]
  },
  {
   "cell_type": "code",
   "execution_count": 5,
   "metadata": {},
   "outputs": [],
   "source": [
    "adult_income_data = adult_income_data.drop(\"fnlwgt\", axis = 1)"
   ]
  },
  {
   "cell_type": "code",
   "execution_count": 6,
   "metadata": {},
   "outputs": [
    {
     "data": {
      "text/html": [
       "<div>\n",
       "<style scoped>\n",
       "    .dataframe tbody tr th:only-of-type {\n",
       "        vertical-align: middle;\n",
       "    }\n",
       "\n",
       "    .dataframe tbody tr th {\n",
       "        vertical-align: top;\n",
       "    }\n",
       "\n",
       "    .dataframe thead th {\n",
       "        text-align: right;\n",
       "    }\n",
       "</style>\n",
       "<table border=\"1\" class=\"dataframe\">\n",
       "  <thead>\n",
       "    <tr style=\"text-align: right;\">\n",
       "      <th></th>\n",
       "      <th>age</th>\n",
       "      <th>workclass</th>\n",
       "      <th>education</th>\n",
       "      <th>educational-num</th>\n",
       "      <th>marital-status</th>\n",
       "      <th>occupation</th>\n",
       "      <th>relationship</th>\n",
       "      <th>race</th>\n",
       "      <th>gender</th>\n",
       "      <th>capital-gain</th>\n",
       "      <th>capital-loss</th>\n",
       "      <th>hours-per-week</th>\n",
       "      <th>native-country</th>\n",
       "      <th>income</th>\n",
       "    </tr>\n",
       "  </thead>\n",
       "  <tbody>\n",
       "    <tr>\n",
       "      <td>0</td>\n",
       "      <td>25</td>\n",
       "      <td>Private</td>\n",
       "      <td>11th</td>\n",
       "      <td>7</td>\n",
       "      <td>Never-married</td>\n",
       "      <td>Machine-op-inspct</td>\n",
       "      <td>Own-child</td>\n",
       "      <td>Black</td>\n",
       "      <td>Male</td>\n",
       "      <td>0</td>\n",
       "      <td>0</td>\n",
       "      <td>40</td>\n",
       "      <td>United-States</td>\n",
       "      <td>&lt;=50K</td>\n",
       "    </tr>\n",
       "    <tr>\n",
       "      <td>1</td>\n",
       "      <td>38</td>\n",
       "      <td>Private</td>\n",
       "      <td>HS-grad</td>\n",
       "      <td>9</td>\n",
       "      <td>Married-civ-spouse</td>\n",
       "      <td>Farming-fishing</td>\n",
       "      <td>Husband</td>\n",
       "      <td>White</td>\n",
       "      <td>Male</td>\n",
       "      <td>0</td>\n",
       "      <td>0</td>\n",
       "      <td>50</td>\n",
       "      <td>United-States</td>\n",
       "      <td>&lt;=50K</td>\n",
       "    </tr>\n",
       "    <tr>\n",
       "      <td>2</td>\n",
       "      <td>28</td>\n",
       "      <td>Local-gov</td>\n",
       "      <td>Assoc-acdm</td>\n",
       "      <td>12</td>\n",
       "      <td>Married-civ-spouse</td>\n",
       "      <td>Protective-serv</td>\n",
       "      <td>Husband</td>\n",
       "      <td>White</td>\n",
       "      <td>Male</td>\n",
       "      <td>0</td>\n",
       "      <td>0</td>\n",
       "      <td>40</td>\n",
       "      <td>United-States</td>\n",
       "      <td>&gt;50K</td>\n",
       "    </tr>\n",
       "    <tr>\n",
       "      <td>3</td>\n",
       "      <td>44</td>\n",
       "      <td>Private</td>\n",
       "      <td>Some-college</td>\n",
       "      <td>10</td>\n",
       "      <td>Married-civ-spouse</td>\n",
       "      <td>Machine-op-inspct</td>\n",
       "      <td>Husband</td>\n",
       "      <td>Black</td>\n",
       "      <td>Male</td>\n",
       "      <td>7688</td>\n",
       "      <td>0</td>\n",
       "      <td>40</td>\n",
       "      <td>United-States</td>\n",
       "      <td>&gt;50K</td>\n",
       "    </tr>\n",
       "    <tr>\n",
       "      <td>4</td>\n",
       "      <td>18</td>\n",
       "      <td>?</td>\n",
       "      <td>Some-college</td>\n",
       "      <td>10</td>\n",
       "      <td>Never-married</td>\n",
       "      <td>?</td>\n",
       "      <td>Own-child</td>\n",
       "      <td>White</td>\n",
       "      <td>Female</td>\n",
       "      <td>0</td>\n",
       "      <td>0</td>\n",
       "      <td>30</td>\n",
       "      <td>United-States</td>\n",
       "      <td>&lt;=50K</td>\n",
       "    </tr>\n",
       "  </tbody>\n",
       "</table>\n",
       "</div>"
      ],
      "text/plain": [
       "   age  workclass     education  educational-num      marital-status  \\\n",
       "0   25    Private          11th                7       Never-married   \n",
       "1   38    Private       HS-grad                9  Married-civ-spouse   \n",
       "2   28  Local-gov    Assoc-acdm               12  Married-civ-spouse   \n",
       "3   44    Private  Some-college               10  Married-civ-spouse   \n",
       "4   18          ?  Some-college               10       Never-married   \n",
       "\n",
       "          occupation relationship   race  gender  capital-gain  capital-loss  \\\n",
       "0  Machine-op-inspct    Own-child  Black    Male             0             0   \n",
       "1    Farming-fishing      Husband  White    Male             0             0   \n",
       "2    Protective-serv      Husband  White    Male             0             0   \n",
       "3  Machine-op-inspct      Husband  Black    Male          7688             0   \n",
       "4                  ?    Own-child  White  Female             0             0   \n",
       "\n",
       "   hours-per-week native-country income  \n",
       "0              40  United-States  <=50K  \n",
       "1              50  United-States  <=50K  \n",
       "2              40  United-States   >50K  \n",
       "3              40  United-States   >50K  \n",
       "4              30  United-States  <=50K  "
      ]
     },
     "execution_count": 6,
     "metadata": {},
     "output_type": "execute_result"
    }
   ],
   "source": [
    "adult_income_data.head()"
   ]
  },
  {
   "cell_type": "code",
   "execution_count": 7,
   "metadata": {},
   "outputs": [],
   "source": [
    "attributes = adult_income_data.drop(\"income\", axis = 1)"
   ]
  },
  {
   "cell_type": "code",
   "execution_count": 8,
   "metadata": {},
   "outputs": [],
   "source": [
    "labels = adult_income_data.income"
   ]
  },
  {
   "cell_type": "code",
   "execution_count": 9,
   "metadata": {},
   "outputs": [
    {
     "data": {
      "text/plain": [
       "income\n",
       "<=50K    0.760718\n",
       ">50K     0.239282\n",
       "dtype: float64"
      ]
     },
     "execution_count": 9,
     "metadata": {},
     "output_type": "execute_result"
    }
   ],
   "source": [
    "adult_income_data.groupby(\"income\").size() / len(adult_income_data)"
   ]
  },
  {
   "cell_type": "code",
   "execution_count": 10,
   "metadata": {},
   "outputs": [],
   "source": [
    "attributes = pd.get_dummies(attributes)"
   ]
  },
  {
   "cell_type": "code",
   "execution_count": 11,
   "metadata": {},
   "outputs": [],
   "source": [
    "scaler = MinMaxScaler()"
   ]
  },
  {
   "cell_type": "code",
   "execution_count": 12,
   "metadata": {},
   "outputs": [],
   "source": [
    "attributes = scaler.fit_transform(attributes)"
   ]
  },
  {
   "cell_type": "code",
   "execution_count": 13,
   "metadata": {},
   "outputs": [
    {
     "data": {
      "text/plain": [
       "(48842, 107)"
      ]
     },
     "execution_count": 13,
     "metadata": {},
     "output_type": "execute_result"
    }
   ],
   "source": [
    "attributes.shape"
   ]
  },
  {
   "cell_type": "code",
   "execution_count": 14,
   "metadata": {},
   "outputs": [],
   "source": [
    "attributes_train, attributes_test, labels_train, labels_test = train_test_split(\n",
    "    attributes, labels, train_size = 0.8, stratify = labels)"
   ]
  },
  {
   "cell_type": "code",
   "execution_count": 15,
   "metadata": {},
   "outputs": [
    {
     "data": {
      "text/plain": [
       "income\n",
       "<=50K    0.760672\n",
       ">50K     0.239328\n",
       "Name: income, dtype: float64"
      ]
     },
     "execution_count": 15,
     "metadata": {},
     "output_type": "execute_result"
    }
   ],
   "source": [
    "pd.Series(labels_test).groupby(labels_test).size() / len(labels_test)"
   ]
  },
  {
   "cell_type": "code",
   "execution_count": 16,
   "metadata": {},
   "outputs": [],
   "source": [
    "tree = DecisionTreeClassifier()"
   ]
  },
  {
   "cell_type": "code",
   "execution_count": 17,
   "metadata": {},
   "outputs": [
    {
     "data": {
      "text/plain": [
       "DecisionTreeClassifier(class_weight=None, criterion='gini', max_depth=None,\n",
       "                       max_features=None, max_leaf_nodes=None,\n",
       "                       min_impurity_decrease=0.0, min_impurity_split=None,\n",
       "                       min_samples_leaf=1, min_samples_split=2,\n",
       "                       min_weight_fraction_leaf=0.0, presort=False,\n",
       "                       random_state=None, splitter='best')"
      ]
     },
     "execution_count": 17,
     "metadata": {},
     "output_type": "execute_result"
    }
   ],
   "source": [
    "tree.fit(attributes_train, labels_train)"
   ]
  },
  {
   "cell_type": "code",
   "execution_count": 18,
   "metadata": {},
   "outputs": [
    {
     "data": {
      "text/plain": [
       "0.9743812863102398"
      ]
     },
     "execution_count": 18,
     "metadata": {},
     "output_type": "execute_result"
    }
   ],
   "source": [
    "tree.score(attributes_train, labels_train)"
   ]
  },
  {
   "cell_type": "code",
   "execution_count": 19,
   "metadata": {},
   "outputs": [
    {
     "data": {
      "text/plain": [
       "0.8243423072985976"
      ]
     },
     "execution_count": 19,
     "metadata": {},
     "output_type": "execute_result"
    }
   ],
   "source": [
    "tree.score(attributes_test, labels_test)"
   ]
  },
  {
   "cell_type": "code",
   "execution_count": 20,
   "metadata": {},
   "outputs": [
    {
     "data": {
      "text/plain": [
       "51"
      ]
     },
     "execution_count": 20,
     "metadata": {},
     "output_type": "execute_result"
    }
   ],
   "source": [
    "tree.get_depth()"
   ]
  },
  {
   "cell_type": "code",
   "execution_count": 21,
   "metadata": {},
   "outputs": [],
   "source": [
    "params = {\n",
    "    \"max_depth\": [2, 4, 10, 15, 20, 25, 28, 30],\n",
    "    \"min_samples_leaf\": [5, 10, 15, 20, 30, 50]\n",
    "}\n",
    "\n",
    "grid = GridSearchCV(DecisionTreeClassifier(), params, scoring = make_scorer(f1_score, pos_label = \">50K\"))"
   ]
  },
  {
   "cell_type": "code",
   "execution_count": 22,
   "metadata": {},
   "outputs": [
    {
     "name": "stderr",
     "output_type": "stream",
     "text": [
      "/home/karatov/anaconda3/lib/python3.7/site-packages/sklearn/model_selection/_split.py:1978: FutureWarning: The default value of cv will change from 3 to 5 in version 0.22. Specify it explicitly to silence this warning.\n",
      "  warnings.warn(CV_WARNING, FutureWarning)\n"
     ]
    },
    {
     "data": {
      "text/plain": [
       "GridSearchCV(cv='warn', error_score='raise-deprecating',\n",
       "             estimator=DecisionTreeClassifier(class_weight=None,\n",
       "                                              criterion='gini', max_depth=None,\n",
       "                                              max_features=None,\n",
       "                                              max_leaf_nodes=None,\n",
       "                                              min_impurity_decrease=0.0,\n",
       "                                              min_impurity_split=None,\n",
       "                                              min_samples_leaf=1,\n",
       "                                              min_samples_split=2,\n",
       "                                              min_weight_fraction_leaf=0.0,\n",
       "                                              presort=False, random_state=None,\n",
       "                                              splitter='best'),\n",
       "             iid='warn', n_jobs=None,\n",
       "             param_grid={'max_depth': [2, 4, 10, 15, 20, 25, 28, 30],\n",
       "                         'min_samples_leaf': [5, 10, 15, 20, 30, 50]},\n",
       "             pre_dispatch='2*n_jobs', refit=True, return_train_score=False,\n",
       "             scoring=make_scorer(f1_score, pos_label=>50K), verbose=0)"
      ]
     },
     "execution_count": 22,
     "metadata": {},
     "output_type": "execute_result"
    }
   ],
   "source": [
    "grid.fit(attributes_train, labels_train)"
   ]
  },
  {
   "cell_type": "code",
   "execution_count": 23,
   "metadata": {},
   "outputs": [
    {
     "data": {
      "text/plain": [
       "{'max_depth': 25, 'min_samples_leaf': 50}"
      ]
     },
     "execution_count": 23,
     "metadata": {},
     "output_type": "execute_result"
    }
   ],
   "source": [
    "grid.best_params_"
   ]
  },
  {
   "cell_type": "code",
   "execution_count": 24,
   "metadata": {},
   "outputs": [
    {
     "data": {
      "text/plain": [
       "{'mean_fit_time': array([0.09519172, 0.09654744, 0.09615684, 0.09763805, 0.09682353,\n",
       "        0.0956436 , 0.13645689, 0.13896092, 0.13627219, 0.13575244,\n",
       "        0.13598307, 0.151016  , 0.23920131, 0.21717874, 0.2289563 ,\n",
       "        0.25389886, 0.24780242, 0.22652253, 0.25523678, 0.25009386,\n",
       "        0.24576386, 0.24367984, 0.2336181 , 0.22798562, 0.27369499,\n",
       "        0.26391904, 0.25858784, 0.25424997, 0.24107941, 0.23249817,\n",
       "        0.27777743, 0.26719697, 0.25879653, 0.25660698, 0.24111501,\n",
       "        0.23247989, 0.29900742, 0.27819824, 0.30703894, 0.25609469,\n",
       "        0.25257119, 0.25729545, 0.28350536, 0.26781305, 0.26338887,\n",
       "        0.27043931, 0.29645133, 0.28869335]),\n",
       " 'std_fit_time': array([0.00122303, 0.00048905, 0.00047915, 0.00066122, 0.00190799,\n",
       "        0.0004698 , 0.00107329, 0.00270202, 0.00080609, 0.00061533,\n",
       "        0.00042661, 0.0132771 , 0.01410915, 0.0042363 , 0.0143541 ,\n",
       "        0.03507113, 0.00324351, 0.02745902, 0.00338677, 0.00338581,\n",
       "        0.00480685, 0.00404518, 0.00992725, 0.00824124, 0.00968624,\n",
       "        0.00877483, 0.00933202, 0.01126605, 0.01451196, 0.0157204 ,\n",
       "        0.01124324, 0.01042715, 0.01203794, 0.01273981, 0.0151945 ,\n",
       "        0.0146444 , 0.01758463, 0.01230663, 0.02440381, 0.01058975,\n",
       "        0.0229106 , 0.02964704, 0.00917538, 0.01106889, 0.01280041,\n",
       "        0.0170276 , 0.03918698, 0.03057558]),\n",
       " 'mean_score_time': array([0.09479268, 0.09396021, 0.09392269, 0.09572681, 0.09473626,\n",
       "        0.09390608, 0.09417661, 0.09466386, 0.09454338, 0.09452462,\n",
       "        0.09414339, 0.10154279, 0.09689633, 0.09738755, 0.10084224,\n",
       "        0.10128522, 0.10742688, 0.10406772, 0.0954953 , 0.09551724,\n",
       "        0.09453924, 0.09491769, 0.09466791, 0.0954508 , 0.09540828,\n",
       "        0.09477464, 0.09475899, 0.09471766, 0.09507736, 0.09472283,\n",
       "        0.09504517, 0.09469159, 0.09471703, 0.09484752, 0.09459043,\n",
       "        0.09465679, 0.09896143, 0.09536386, 0.10700393, 0.09472052,\n",
       "        0.09968185, 0.0997057 , 0.09506877, 0.09496641, 0.09493836,\n",
       "        0.0988791 , 0.10984365, 0.10462228]),\n",
       " 'std_score_time': array([0.00112254, 0.00045134, 0.00047661, 0.00197163, 0.0009608 ,\n",
       "        0.00076879, 0.00065027, 0.00070337, 0.00080848, 0.00063166,\n",
       "        0.00060683, 0.00891069, 0.00253442, 0.00187453, 0.00521403,\n",
       "        0.00898951, 0.00427436, 0.00782359, 0.00137727, 0.00097176,\n",
       "        0.00033832, 0.00053539, 0.00082905, 0.00115973, 0.00079403,\n",
       "        0.00030193, 0.00060092, 0.00043641, 0.00092655, 0.00082093,\n",
       "        0.00018116, 0.00055594, 0.00050177, 0.00023385, 0.00074405,\n",
       "        0.00073845, 0.00473624, 0.00060586, 0.00689884, 0.00029104,\n",
       "        0.00517414, 0.00253801, 0.00026187, 0.00031173, 0.00031524,\n",
       "        0.00484982, 0.01401909, 0.00568353]),\n",
       " 'param_max_depth': masked_array(data=[2, 2, 2, 2, 2, 2, 4, 4, 4, 4, 4, 4, 10, 10, 10, 10, 10,\n",
       "                    10, 15, 15, 15, 15, 15, 15, 20, 20, 20, 20, 20, 20, 25,\n",
       "                    25, 25, 25, 25, 25, 28, 28, 28, 28, 28, 28, 30, 30, 30,\n",
       "                    30, 30, 30],\n",
       "              mask=[False, False, False, False, False, False, False, False,\n",
       "                    False, False, False, False, False, False, False, False,\n",
       "                    False, False, False, False, False, False, False, False,\n",
       "                    False, False, False, False, False, False, False, False,\n",
       "                    False, False, False, False, False, False, False, False,\n",
       "                    False, False, False, False, False, False, False, False],\n",
       "        fill_value='?',\n",
       "             dtype=object),\n",
       " 'param_min_samples_leaf': masked_array(data=[5, 10, 15, 20, 30, 50, 5, 10, 15, 20, 30, 50, 5, 10,\n",
       "                    15, 20, 30, 50, 5, 10, 15, 20, 30, 50, 5, 10, 15, 20,\n",
       "                    30, 50, 5, 10, 15, 20, 30, 50, 5, 10, 15, 20, 30, 50,\n",
       "                    5, 10, 15, 20, 30, 50],\n",
       "              mask=[False, False, False, False, False, False, False, False,\n",
       "                    False, False, False, False, False, False, False, False,\n",
       "                    False, False, False, False, False, False, False, False,\n",
       "                    False, False, False, False, False, False, False, False,\n",
       "                    False, False, False, False, False, False, False, False,\n",
       "                    False, False, False, False, False, False, False, False],\n",
       "        fill_value='?',\n",
       "             dtype=object),\n",
       " 'params': [{'max_depth': 2, 'min_samples_leaf': 5},\n",
       "  {'max_depth': 2, 'min_samples_leaf': 10},\n",
       "  {'max_depth': 2, 'min_samples_leaf': 15},\n",
       "  {'max_depth': 2, 'min_samples_leaf': 20},\n",
       "  {'max_depth': 2, 'min_samples_leaf': 30},\n",
       "  {'max_depth': 2, 'min_samples_leaf': 50},\n",
       "  {'max_depth': 4, 'min_samples_leaf': 5},\n",
       "  {'max_depth': 4, 'min_samples_leaf': 10},\n",
       "  {'max_depth': 4, 'min_samples_leaf': 15},\n",
       "  {'max_depth': 4, 'min_samples_leaf': 20},\n",
       "  {'max_depth': 4, 'min_samples_leaf': 30},\n",
       "  {'max_depth': 4, 'min_samples_leaf': 50},\n",
       "  {'max_depth': 10, 'min_samples_leaf': 5},\n",
       "  {'max_depth': 10, 'min_samples_leaf': 10},\n",
       "  {'max_depth': 10, 'min_samples_leaf': 15},\n",
       "  {'max_depth': 10, 'min_samples_leaf': 20},\n",
       "  {'max_depth': 10, 'min_samples_leaf': 30},\n",
       "  {'max_depth': 10, 'min_samples_leaf': 50},\n",
       "  {'max_depth': 15, 'min_samples_leaf': 5},\n",
       "  {'max_depth': 15, 'min_samples_leaf': 10},\n",
       "  {'max_depth': 15, 'min_samples_leaf': 15},\n",
       "  {'max_depth': 15, 'min_samples_leaf': 20},\n",
       "  {'max_depth': 15, 'min_samples_leaf': 30},\n",
       "  {'max_depth': 15, 'min_samples_leaf': 50},\n",
       "  {'max_depth': 20, 'min_samples_leaf': 5},\n",
       "  {'max_depth': 20, 'min_samples_leaf': 10},\n",
       "  {'max_depth': 20, 'min_samples_leaf': 15},\n",
       "  {'max_depth': 20, 'min_samples_leaf': 20},\n",
       "  {'max_depth': 20, 'min_samples_leaf': 30},\n",
       "  {'max_depth': 20, 'min_samples_leaf': 50},\n",
       "  {'max_depth': 25, 'min_samples_leaf': 5},\n",
       "  {'max_depth': 25, 'min_samples_leaf': 10},\n",
       "  {'max_depth': 25, 'min_samples_leaf': 15},\n",
       "  {'max_depth': 25, 'min_samples_leaf': 20},\n",
       "  {'max_depth': 25, 'min_samples_leaf': 30},\n",
       "  {'max_depth': 25, 'min_samples_leaf': 50},\n",
       "  {'max_depth': 28, 'min_samples_leaf': 5},\n",
       "  {'max_depth': 28, 'min_samples_leaf': 10},\n",
       "  {'max_depth': 28, 'min_samples_leaf': 15},\n",
       "  {'max_depth': 28, 'min_samples_leaf': 20},\n",
       "  {'max_depth': 28, 'min_samples_leaf': 30},\n",
       "  {'max_depth': 28, 'min_samples_leaf': 50},\n",
       "  {'max_depth': 30, 'min_samples_leaf': 5},\n",
       "  {'max_depth': 30, 'min_samples_leaf': 10},\n",
       "  {'max_depth': 30, 'min_samples_leaf': 15},\n",
       "  {'max_depth': 30, 'min_samples_leaf': 20},\n",
       "  {'max_depth': 30, 'min_samples_leaf': 30},\n",
       "  {'max_depth': 30, 'min_samples_leaf': 50}],\n",
       " 'split0_test_score': array([0.56336336, 0.56336336, 0.56336336, 0.56336336, 0.56336336,\n",
       "        0.56336336, 0.64016424, 0.64004478, 0.64004478, 0.63872778,\n",
       "        0.63872778, 0.63872778, 0.66482097, 0.65952337, 0.65545287,\n",
       "        0.65223024, 0.66012588, 0.65270373, 0.67372957, 0.67111913,\n",
       "        0.66474717, 0.66280962, 0.66800658, 0.67310144, 0.66154396,\n",
       "        0.66642664, 0.66960042, 0.66163793, 0.66969147, 0.68      ,\n",
       "        0.65944056, 0.66749292, 0.66842754, 0.66200967, 0.66969147,\n",
       "        0.68      , 0.66206897, 0.66784017, 0.66912281, 0.66225876,\n",
       "        0.66969147, 0.68      , 0.66265268, 0.66795435, 0.66888928,\n",
       "        0.66225876, 0.66969147, 0.68      ]),\n",
       " 'split1_test_score': array([0.56182796, 0.56182796, 0.56182796, 0.56182796, 0.56182796,\n",
       "        0.56182796, 0.61679838, 0.61657174, 0.61529974, 0.61529974,\n",
       "        0.61529974, 0.61529974, 0.64797742, 0.64419617, 0.64394516,\n",
       "        0.64099617, 0.64415781, 0.64738136, 0.65074407, 0.65035224,\n",
       "        0.63981849, 0.63625866, 0.64028914, 0.66224433, 0.64371526,\n",
       "        0.646919  , 0.64953527, 0.64112676, 0.66195191, 0.68010336,\n",
       "        0.65311746, 0.65807351, 0.66273626, 0.65449286, 0.6558372 ,\n",
       "        0.67862742, 0.64576361, 0.65305398, 0.659743  , 0.65507973,\n",
       "        0.65522788, 0.67862742, 0.64875108, 0.65269142, 0.65871624,\n",
       "        0.65532677, 0.65522788, 0.67862742]),\n",
       " 'split2_test_score': array([0.56551724, 0.56551724, 0.56551724, 0.56551724, 0.56551724,\n",
       "        0.56551724, 0.61532793, 0.61558298, 0.61535629, 0.61535629,\n",
       "        0.61535629, 0.61427515, 0.64928822, 0.65222306, 0.65      ,\n",
       "        0.64597919, 0.6444276 , 0.64266667, 0.65884788, 0.65      ,\n",
       "        0.64798409, 0.64598338, 0.65674891, 0.65261628, 0.63969439,\n",
       "        0.64144855, 0.65020724, 0.6495572 , 0.66028029, 0.65317188,\n",
       "        0.63380038, 0.64580018, 0.65023223, 0.64982984, 0.66184257,\n",
       "        0.65491184, 0.63335631, 0.64485488, 0.65042674, 0.6517297 ,\n",
       "        0.66184257, 0.65491184, 0.63388727, 0.64711049, 0.65044405,\n",
       "        0.64999107, 0.66184257, 0.65491184]),\n",
       " 'mean_test_score': array([0.56356952, 0.56356952, 0.56356952, 0.56356952, 0.56356952,\n",
       "        0.56356952, 0.62409726, 0.62406691, 0.62356736, 0.62312834,\n",
       "        0.62312834, 0.62276797, 0.65402915, 0.65198106, 0.64979949,\n",
       "        0.64640201, 0.6495707 , 0.64758405, 0.6611075 , 0.65715748,\n",
       "        0.65085027, 0.64835092, 0.65501521, 0.66265428, 0.64831821,\n",
       "        0.65159844, 0.65644798, 0.65077424, 0.6639747 , 0.67109197,\n",
       "        0.64878641, 0.65712247, 0.66046555, 0.65544429, 0.66245727,\n",
       "        0.67117998, 0.64706334, 0.65525   , 0.65976442, 0.65635621,\n",
       "        0.66225416, 0.67117998, 0.6484307 , 0.65591906, 0.6593501 ,\n",
       "        0.65585903, 0.66225416, 0.67117998]),\n",
       " 'std_test_score': array([0.00151316, 0.00151316, 0.00151316, 0.00151316, 0.00151316,\n",
       "        0.00151316, 0.01137735, 0.0113057 , 0.01165177, 0.01103092,\n",
       "        0.01103092, 0.01129348, 0.00765   , 0.00625968, 0.00470017,\n",
       "        0.00459606, 0.00746474, 0.00410015, 0.0095189 , 0.0098738 ,\n",
       "        0.01037698, 0.01096796, 0.01138188, 0.00836811, 0.00949534,\n",
       "        0.01072071, 0.00930458, 0.00841781, 0.00409972, 0.01267125,\n",
       "        0.01090641, 0.00888158, 0.0075998 , 0.00501773, 0.00567269,\n",
       "        0.01151673, 0.01175794, 0.00951137, 0.0076327 , 0.00439224,\n",
       "        0.00591194, 0.01151673, 0.01174569, 0.00881026, 0.00754361,\n",
       "        0.00502242, 0.00591194, 0.01151673]),\n",
       " 'rank_test_score': array([43, 43, 43, 43, 43, 43, 37, 38, 39, 40, 40, 42, 23, 24, 28, 36, 29,\n",
       "        34, 10, 14, 26, 32, 22,  6, 33, 25, 16, 27,  5,  4, 30, 15, 11, 20,\n",
       "         7,  1, 35, 21, 12, 17,  8,  1, 31, 18, 13, 19,  8,  1],\n",
       "       dtype=int32)}"
      ]
     },
     "execution_count": 24,
     "metadata": {},
     "output_type": "execute_result"
    }
   ],
   "source": [
    "grid.cv_results_"
   ]
  },
  {
   "cell_type": "code",
   "execution_count": 25,
   "metadata": {},
   "outputs": [
    {
     "data": {
      "text/plain": [
       "0.8664295037493922"
      ]
     },
     "execution_count": 25,
     "metadata": {},
     "output_type": "execute_result"
    }
   ],
   "source": [
    "grid.best_estimator_.score(attributes_train, labels_train)"
   ]
  },
  {
   "cell_type": "code",
   "execution_count": 26,
   "metadata": {},
   "outputs": [
    {
     "data": {
      "text/plain": [
       "0.8608864776333299"
      ]
     },
     "execution_count": 26,
     "metadata": {},
     "output_type": "execute_result"
    }
   ],
   "source": [
    "grid.best_estimator_.score(attributes_test, labels_test)"
   ]
  },
  {
   "cell_type": "code",
   "execution_count": 27,
   "metadata": {},
   "outputs": [
    {
     "name": "stdout",
     "output_type": "stream",
     "text": [
      "              precision    recall  f1-score   support\n",
      "\n",
      "       <=50K       0.89      0.95      0.92     29724\n",
      "        >50K       0.78      0.61      0.69      9349\n",
      "\n",
      "    accuracy                           0.87     39073\n",
      "   macro avg       0.83      0.78      0.80     39073\n",
      "weighted avg       0.86      0.87      0.86     39073\n",
      "\n"
     ]
    }
   ],
   "source": [
    "predicted_labels_train = grid.best_estimator_.predict(attributes_train)\n",
    "print(classification_report(labels_train, predicted_labels_train))"
   ]
  },
  {
   "cell_type": "code",
   "execution_count": 28,
   "metadata": {},
   "outputs": [
    {
     "name": "stdout",
     "output_type": "stream",
     "text": [
      "              precision    recall  f1-score   support\n",
      "\n",
      "       <=50K       0.88      0.94      0.91      7431\n",
      "        >50K       0.76      0.60      0.68      2338\n",
      "\n",
      "    accuracy                           0.86      9769\n",
      "   macro avg       0.82      0.77      0.79      9769\n",
      "weighted avg       0.85      0.86      0.85      9769\n",
      "\n"
     ]
    }
   ],
   "source": [
    "predicted_labels_test = grid.best_estimator_.predict(attributes_test)\n",
    "print(classification_report(labels_test, predicted_labels_test))"
   ]
  },
  {
   "cell_type": "code",
   "execution_count": 29,
   "metadata": {},
   "outputs": [
    {
     "data": {
      "text/plain": [
       "array([5.67284991e-02, 2.05239968e-01, 1.87211845e-01, 5.07213128e-02,\n",
       "       4.24428960e-02, 0.00000000e+00, 1.14889186e-03, 4.08492643e-04,\n",
       "       0.00000000e+00, 3.17896804e-03, 6.97705990e-04, 7.89885417e-03,\n",
       "       0.00000000e+00, 0.00000000e+00, 0.00000000e+00, 2.22424675e-04,\n",
       "       1.63017827e-06, 0.00000000e+00, 0.00000000e+00, 0.00000000e+00,\n",
       "       0.00000000e+00, 1.96800230e-03, 0.00000000e+00, 5.34794516e-04,\n",
       "       0.00000000e+00, 1.55535852e-03, 1.34615726e-04, 0.00000000e+00,\n",
       "       1.68316686e-03, 2.22314448e-04, 1.06899869e-04, 0.00000000e+00,\n",
       "       3.96159121e-01, 0.00000000e+00, 2.37066589e-04, 0.00000000e+00,\n",
       "       3.69889891e-06, 0.00000000e+00, 2.05559772e-04, 0.00000000e+00,\n",
       "       1.99456801e-03, 1.27938363e-02, 1.47559478e-03, 0.00000000e+00,\n",
       "       1.98412646e-04, 6.57604630e-03, 0.00000000e+00, 6.44858095e-03,\n",
       "       1.70137607e-05, 3.49639529e-03, 8.55897484e-04, 1.46210177e-04,\n",
       "       6.43853834e-06, 6.49436445e-04, 0.00000000e+00, 3.82341486e-05,\n",
       "       4.01495348e-05, 3.81551335e-03, 0.00000000e+00, 0.00000000e+00,\n",
       "       2.94034926e-06, 0.00000000e+00, 3.76006524e-04, 4.43700701e-04,\n",
       "       5.96605469e-04, 0.00000000e+00, 0.00000000e+00, 0.00000000e+00,\n",
       "       0.00000000e+00, 0.00000000e+00, 0.00000000e+00, 0.00000000e+00,\n",
       "       0.00000000e+00, 0.00000000e+00, 0.00000000e+00, 0.00000000e+00,\n",
       "       0.00000000e+00, 0.00000000e+00, 0.00000000e+00, 0.00000000e+00,\n",
       "       0.00000000e+00, 0.00000000e+00, 0.00000000e+00, 0.00000000e+00,\n",
       "       0.00000000e+00, 0.00000000e+00, 0.00000000e+00, 0.00000000e+00,\n",
       "       0.00000000e+00, 0.00000000e+00, 0.00000000e+00, 3.45217892e-05,\n",
       "       0.00000000e+00, 0.00000000e+00, 0.00000000e+00, 0.00000000e+00,\n",
       "       0.00000000e+00, 0.00000000e+00, 0.00000000e+00, 0.00000000e+00,\n",
       "       0.00000000e+00, 0.00000000e+00, 0.00000000e+00, 0.00000000e+00,\n",
       "       1.28180997e-03, 0.00000000e+00, 0.00000000e+00])"
      ]
     },
     "execution_count": 29,
     "metadata": {},
     "output_type": "execute_result"
    }
   ],
   "source": [
    "grid.best_estimator_.feature_importances_"
   ]
  },
  {
   "cell_type": "code",
   "execution_count": 30,
   "metadata": {},
   "outputs": [
    {
     "data": {
      "text/plain": [
       "<BarContainer object of 107 artists>"
      ]
     },
     "execution_count": 30,
     "metadata": {},
     "output_type": "execute_result"
    },
    {
     "data": {
      "image/png": "[encoded data removed]",
      "text/plain": [
       "<Figure size 432x288 with 1 Axes>"
      ]
     },
     "metadata": {
      "needs_background": "light"
     },
     "output_type": "display_data"
    }
   ],
   "source": [
    "plt.bar(range(len(grid.best_estimator_.feature_importances_)), grid.best_estimator_.feature_importances_)"
   ]
  },
  {
   "cell_type": "code",
   "execution_count": 31,
   "metadata": {},
   "outputs": [],
   "source": [
    "params_forest = {\n",
    "    \"n_estimators\": [10, 100, 200, 250, 300],\n",
    "    \"max_depth\": [2, 4, 10, 15, 20, 25, 28, 30]\n",
    "}\n",
    "\n",
    "grid_forest = GridSearchCV(RandomForestClassifier(), params_forest, scoring=make_scorer(f1_score, pos_label = \">50K\"))"
   ]
  },
  {
   "cell_type": "code",
   "execution_count": 32,
   "metadata": {},
   "outputs": [
    {
     "name": "stderr",
     "output_type": "stream",
     "text": [
      "/home/karatov/anaconda3/lib/python3.7/site-packages/sklearn/model_selection/_split.py:1978: FutureWarning: The default value of cv will change from 3 to 5 in version 0.22. Specify it explicitly to silence this warning.\n",
      "  warnings.warn(CV_WARNING, FutureWarning)\n",
      "/home/karatov/anaconda3/lib/python3.7/site-packages/sklearn/metrics/classification.py:1437: UndefinedMetricWarning: F-score is ill-defined and being set to 0.0 due to no predicted samples.\n",
      "  'precision', 'predicted', average, warn_for)\n"
     ]
    },
    {
     "data": {
      "text/plain": [
       "GridSearchCV(cv='warn', error_score='raise-deprecating',\n",
       "             estimator=RandomForestClassifier(bootstrap=True, class_weight=None,\n",
       "                                              criterion='gini', max_depth=None,\n",
       "                                              max_features='auto',\n",
       "                                              max_leaf_nodes=None,\n",
       "                                              min_impurity_decrease=0.0,\n",
       "                                              min_impurity_split=None,\n",
       "                                              min_samples_leaf=1,\n",
       "                                              min_samples_split=2,\n",
       "                                              min_weight_fraction_leaf=0.0,\n",
       "                                              n_estimators='warn', n_jobs=None,\n",
       "                                              oob_score=False,\n",
       "                                              random_state=None, verbose=0,\n",
       "                                              warm_start=False),\n",
       "             iid='warn', n_jobs=None,\n",
       "             param_grid={'max_depth': [2, 4, 10, 15, 20, 25, 28, 30],\n",
       "                         'n_estimators': [10, 100, 200, 250, 300]},\n",
       "             pre_dispatch='2*n_jobs', refit=True, return_train_score=False,\n",
       "             scoring=make_scorer(f1_score, pos_label=>50K), verbose=0)"
      ]
     },
     "execution_count": 32,
     "metadata": {},
     "output_type": "execute_result"
    }
   ],
   "source": [
    "grid_forest.fit(attributes_train, labels_train)"
   ]
  },
  {
   "cell_type": "code",
   "execution_count": 33,
   "metadata": {},
   "outputs": [
    {
     "data": {
      "text/plain": [
       "{'max_depth': 20, 'n_estimators': 200}"
      ]
     },
     "execution_count": 33,
     "metadata": {},
     "output_type": "execute_result"
    }
   ],
   "source": [
    "grid_forest.best_params_"
   ]
  },
  {
   "cell_type": "code",
   "execution_count": 34,
   "metadata": {},
   "outputs": [],
   "source": [
    "tree = DecisionTreeClassifier(max_depth=1)"
   ]
  },
  {
   "cell_type": "code",
   "execution_count": 35,
   "metadata": {},
   "outputs": [
    {
     "data": {
      "text/plain": [
       "DecisionTreeClassifier(class_weight=None, criterion='gini', max_depth=1,\n",
       "                       max_features=None, max_leaf_nodes=None,\n",
       "                       min_impurity_decrease=0.0, min_impurity_split=None,\n",
       "                       min_samples_leaf=1, min_samples_split=2,\n",
       "                       min_weight_fraction_leaf=0.0, presort=False,\n",
       "                       random_state=None, splitter='best')"
      ]
     },
     "execution_count": 35,
     "metadata": {},
     "output_type": "execute_result"
    }
   ],
   "source": [
    "tree.fit(attributes_train, labels_train)"
   ]
  },
  {
   "cell_type": "code",
   "execution_count": 36,
   "metadata": {},
   "outputs": [
    {
     "name": "stderr",
     "output_type": "stream",
     "text": [
      "/home/karatov/anaconda3/lib/python3.7/site-packages/sklearn/metrics/classification.py:1437: UndefinedMetricWarning: F-score is ill-defined and being set to 0.0 due to no predicted samples.\n",
      "  'precision', 'predicted', average, warn_for)\n"
     ]
    },
    {
     "data": {
      "text/plain": [
       "0.0"
      ]
     },
     "execution_count": 36,
     "metadata": {},
     "output_type": "execute_result"
    }
   ],
   "source": [
    "f1_score(labels_test, tree.predict(attributes_test), pos_label=\">50K\")"
   ]
  },
  {
   "cell_type": "code",
   "execution_count": 37,
   "metadata": {},
   "outputs": [
    {
     "name": "stderr",
     "output_type": "stream",
     "text": [
      "/home/karatov/anaconda3/lib/python3.7/site-packages/sklearn/metrics/classification.py:1437: UndefinedMetricWarning: F-score is ill-defined and being set to 0.0 due to no predicted samples.\n",
      "  'precision', 'predicted', average, warn_for)\n"
     ]
    },
    {
     "data": {
      "text/plain": [
       "0.0"
      ]
     },
     "execution_count": 37,
     "metadata": {},
     "output_type": "execute_result"
    }
   ],
   "source": [
    "f1_score(labels_train, tree.predict(attributes_train), pos_label=\">50K\")"
   ]
  },
  {
   "cell_type": "code",
   "execution_count": 38,
   "metadata": {},
   "outputs": [],
   "source": [
    "ada = AdaBoostClassifier(base_estimator=DecisionTreeClassifier(max_depth = 1), n_estimators=100, learning_rate=0.1)"
   ]
  },
  {
   "cell_type": "code",
   "execution_count": 39,
   "metadata": {},
   "outputs": [
    {
     "data": {
      "text/plain": [
       "AdaBoostClassifier(algorithm='SAMME.R',\n",
       "                   base_estimator=DecisionTreeClassifier(class_weight=None,\n",
       "                                                         criterion='gini',\n",
       "                                                         max_depth=1,\n",
       "                                                         max_features=None,\n",
       "                                                         max_leaf_nodes=None,\n",
       "                                                         min_impurity_decrease=0.0,\n",
       "                                                         min_impurity_split=None,\n",
       "                                                         min_samples_leaf=1,\n",
       "                                                         min_samples_split=2,\n",
       "                                                         min_weight_fraction_leaf=0.0,\n",
       "                                                         presort=False,\n",
       "                                                         random_state=None,\n",
       "                                                         splitter='best'),\n",
       "                   learning_rate=0.1, n_estimators=100, random_state=None)"
      ]
     },
     "execution_count": 39,
     "metadata": {},
     "output_type": "execute_result"
    }
   ],
   "source": [
    "ada.fit(attributes_train, labels_train)"
   ]
  },
  {
   "cell_type": "code",
   "execution_count": 40,
   "metadata": {},
   "outputs": [
    {
     "data": {
      "text/plain": [
       "0.6365979381443299"
      ]
     },
     "execution_count": 40,
     "metadata": {},
     "output_type": "execute_result"
    }
   ],
   "source": [
    "f1_score(labels_test, ada.predict(attributes_test), pos_label=\">50K\")"
   ]
  },
  {
   "cell_type": "code",
   "execution_count": 41,
   "metadata": {},
   "outputs": [
    {
     "data": {
      "text/plain": [
       "0.6353576942871847"
      ]
     },
     "execution_count": 41,
     "metadata": {},
     "output_type": "execute_result"
    }
   ],
   "source": [
    "f1_score(labels_train, ada.predict(attributes_train), pos_label=\">50K\")"
   ]
  },
  {
   "cell_type": "code",
   "execution_count": 64,
   "metadata": {},
   "outputs": [],
   "source": [
    "attributes_train, attributes_test, labels_train, labels_test = train_test_split(\n",
    "    attributes, labels, train_size = 0.8, stratify = labels)"
   ]
  },
  {
   "cell_type": "code",
   "execution_count": 65,
   "metadata": {},
   "outputs": [],
   "source": [
    "forest = RandomForestClassifier(max_depth=5, n_estimators=50)"
   ]
  },
  {
   "cell_type": "code",
   "execution_count": 66,
   "metadata": {},
   "outputs": [
    {
     "data": {
      "text/plain": [
       "RandomForestClassifier(bootstrap=True, class_weight=None, criterion='gini',\n",
       "                       max_depth=5, max_features='auto', max_leaf_nodes=None,\n",
       "                       min_impurity_decrease=0.0, min_impurity_split=None,\n",
       "                       min_samples_leaf=1, min_samples_split=2,\n",
       "                       min_weight_fraction_leaf=0.0, n_estimators=50,\n",
       "                       n_jobs=None, oob_score=False, random_state=None,\n",
       "                       verbose=0, warm_start=False)"
      ]
     },
     "execution_count": 66,
     "metadata": {},
     "output_type": "execute_result"
    }
   ],
   "source": [
    "forest.fit(attributes_train, labels_train)"
   ]
  },
  {
   "cell_type": "code",
   "execution_count": 67,
   "metadata": {},
   "outputs": [
    {
     "data": {
      "text/plain": [
       "0.8397102858751567"
      ]
     },
     "execution_count": 67,
     "metadata": {},
     "output_type": "execute_result"
    }
   ],
   "source": [
    "forest.score(attributes_train, labels_train)"
   ]
  },
  {
   "cell_type": "code",
   "execution_count": 68,
   "metadata": {},
   "outputs": [
    {
     "data": {
      "text/plain": [
       "0.8349882280683796"
      ]
     },
     "execution_count": 68,
     "metadata": {},
     "output_type": "execute_result"
    }
   ],
   "source": [
    "forest.score(attributes_test, labels_test)"
   ]
  },
  {
   "cell_type": "code",
   "execution_count": null,
   "metadata": {},
   "outputs": [],
   "source": []
  }
 ],
 "metadata": {
  "kernelspec": {
   "display_name": "Python 3",
   "language": "python",
   "name": "python3"
  },
  "language_info": {
   "codemirror_mode": {
    "name": "ipython",
    "version": 3
   },
   "file_extension": ".py",
   "mimetype": "text/x-python",
   "name": "python",
   "nbconvert_exporter": "python",
   "pygments_lexer": "ipython3",
   "version": "3.7.4"
  }
 },
 "nbformat": 4,
 "nbformat_minor": 2
}
